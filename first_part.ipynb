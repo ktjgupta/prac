{
 "cells": [
  {
   "cell_type": "code",
   "execution_count": 32,
   "metadata": {},
   "outputs": [],
   "source": [
    "import os.path as path\n",
    "\n",
    "FILE_NAME = \"portfolio.txt\""
   ]
  },
  {
   "cell_type": "code",
   "execution_count": 14,
   "metadata": {},
   "outputs": [],
   "source": [
    "def getCurrentPortfolio():\n",
    "    file_exists = path.isfile(FILE_NAME)\n",
    "    balance = 0\n",
    "    if file_exists == False:\n",
    "        balance = 100000\n",
    "    else:\n",
    "        port_file = open(FILE_NAME, 'r')\n",
    "        for line in port_file:\n",
    "            line_array = line.split()\n",
    "            if line_array[0] == 'balance:':\n",
    "                balance = int(line_array[1])\n",
    "\n",
    "            #get stocks later\n",
    "\n",
    "        port_file.close()\n",
    "    \n",
    "    return balance\n",
    "        \n",
    "    \n"
   ]
  },
  {
   "cell_type": "code",
   "execution_count": 29,
   "metadata": {},
   "outputs": [],
   "source": [
    "def saveCurrentPortfolio(balance):\n",
    "    port_file = open(FILE_NAME, 'w+')\n",
    "    port_file.write(\"balance: \" + str(balance) + '\\n')    \n",
    "    port_file.close()\n",
    "    "
   ]
  },
  {
   "cell_type": "code",
   "execution_count": 35,
   "metadata": {},
   "outputs": [],
   "source": [
    "balance = getCurrentPortfolio()\n",
    "balance += 100\n",
    "saveCurrentPortfolio(balance)"
   ]
  },
  {
   "cell_type": "code",
   "execution_count": 37,
   "metadata": {},
   "outputs": [
    {
     "ename": "TypeError",
     "evalue": "'str' object cannot be interpreted as an integer",
     "output_type": "error",
     "traceback": [
      "\u001b[1;31m---------------------------------------------------------------------------\u001b[0m",
      "\u001b[1;31mTypeError\u001b[0m                                 Traceback (most recent call last)",
      "\u001b[1;32m<ipython-input-37-3eea3d6b3203>\u001b[0m in \u001b[0;36m<module>\u001b[1;34m\u001b[0m\n\u001b[1;32m----> 1\u001b[1;33m \u001b[0mbin\u001b[0m\u001b[1;33m(\u001b[0m\u001b[1;34m'c'\u001b[0m\u001b[1;33m)\u001b[0m\u001b[1;33m\u001b[0m\u001b[1;33m\u001b[0m\u001b[0m\n\u001b[0m",
      "\u001b[1;31mTypeError\u001b[0m: 'str' object cannot be interpreted as an integer"
     ]
    }
   ],
   "source": [
    "bin('c')"
   ]
  },
  {
   "cell_type": "code",
   "execution_count": 45,
   "metadata": {},
   "outputs": [
    {
     "name": "stdout",
     "output_type": "stream",
     "text": [
      "['0011110', '0001001', '0001100', '0001001', '0001100', '0001001', '0001100']\n",
      "\u001e",
      "\t\f",
      "\t\f",
      "\t\f",
      "\n"
     ]
    }
   ],
   "source": [
    "a_string = \"avsvsvs\"\n",
    "\n",
    "a_byte_array = bytearray(a_string, \"utf8\")\n",
    "\n",
    "\n",
    "byte_list = []\n",
    "\n",
    "for byte in a_byte_array:\n",
    "    binary_representation = bin(byte)[2:]\n",
    "    flipped_bits = \"\"\n",
    "    for bit in binary_representation:\n",
    "        if bit == '0':\n",
    "            flipped_bits += '1'\n",
    "        if bit == '1':\n",
    "            flipped_bits += '0'\n",
    "            \n",
    "    byte_list.append(flipped_bits)\n",
    "\n",
    "\n",
    "\n",
    "print(byte_list)\n",
    "\n",
    "\n",
    "ascii_string = \"\"\n",
    "for binary_value in byte_list:\n",
    "    an_integer = int(binary_value, 2)\n",
    "\n",
    "    ascii_character = chr(an_integer)\n",
    "    ascii_string += ascii_character\n",
    "\n",
    "print(ascii_string)"
   ]
  },
  {
   "cell_type": "code",
   "execution_count": 46,
   "metadata": {},
   "outputs": [
    {
     "name": "stdout",
     "output_type": "stream",
     "text": [
      "['00001', '0110', '0011', '0110', '0011', '0110', '0011']\n"
     ]
    }
   ],
   "source": [
    "a_byte_array = bytearray(ascii_string, \"utf8\")\n",
    "\n",
    "\n",
    "byte_list = []\n",
    "\n",
    "for byte in a_byte_array:\n",
    "    binary_representation = bin(byte)[2:]\n",
    "    flipped_bits = \"\"\n",
    "    for bit in binary_representation:\n",
    "        if bit == '0':\n",
    "            flipped_bits += '1'\n",
    "        if bit == '1':\n",
    "            flipped_bits += '0'\n",
    "            \n",
    "    byte_list.append(flipped_bits)\n",
    "\n",
    "\n",
    "\n",
    "print(byte_list)"
   ]
  },
  {
   "cell_type": "code",
   "execution_count": null,
   "metadata": {},
   "outputs": [],
   "source": []
  }
 ],
 "metadata": {
  "kernelspec": {
   "display_name": "Python 3",
   "language": "python",
   "name": "python3"
  },
  "language_info": {
   "codemirror_mode": {
    "name": "ipython",
    "version": 3
   },
   "file_extension": ".py",
   "mimetype": "text/x-python",
   "name": "python",
   "nbconvert_exporter": "python",
   "pygments_lexer": "ipython3",
   "version": "3.7.4"
  }
 },
 "nbformat": 4,
 "nbformat_minor": 2
}
